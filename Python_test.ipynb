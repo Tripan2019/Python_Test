{
 "cells": [
  {
   "cell_type": "code",
   "execution_count": null,
   "id": "ca74b1ce-d94d-494f-ab3e-81dfe1f614c3",
   "metadata": {},
   "outputs": [],
   "source": []
  },
  {
   "cell_type": "markdown",
   "id": "23590550-211e-4fca-b24f-ee0488414b90",
   "metadata": {},
   "source": [
    "### 1)\tWrite a program to count the sub_string from main string\r",
    "### \n",
    "Example:- A B C D C D C### \r\n",
    "Sub_string= C D C result =2\r\n"
   ]
  },
  {
   "cell_type": "code",
   "execution_count": 20,
   "id": "202668f8-5831-4e1f-b659-3016e675eb98",
   "metadata": {},
   "outputs": [
    {
     "name": "stdout",
     "output_type": "stream",
     "text": [
      "2\n"
     ]
    }
   ],
   "source": [
    "def count_substring(main_string, sub_string):\n",
    "    \n",
    "    main_list = main_string.split()\n",
    "    sub_list = sub_string.split()\n",
    "    \n",
    "    \n",
    "    len_main = len(main_list)\n",
    "    len_sub = len(sub_list)\n",
    "    \n",
    "    \n",
    "    count = 0\n",
    "    \n",
    "    \n",
    "    for i in range(len_main - len_sub + 1):\n",
    "        if main_list[i:i + len_sub] == sub_list:\n",
    "            count += 1\n",
    "    \n",
    "    return count\n",
    "\n",
    "\n",
    "main_string = \"A B C D C D C\"\n",
    "sub_string = \"C D C\"\n",
    "result = count_substring(main_string, sub_string)\n",
    "print(result)"
   ]
  },
  {
   "cell_type": "markdown",
   "id": "0969cfdc-8b16-4ad8-8454-b5ebcf897610",
   "metadata": {},
   "source": [
    "### 2)\tWrite a program to take 4 number and store in list \r\n",
    "[2,4,6,8]\n",
    " find the factorial of the each number of the list and store the value  in the list \r\n"
   ]
  },
  {
   "cell_type": "code",
   "execution_count": 23,
   "id": "97054be3-b5d9-43d7-887b-5c59c6771047",
   "metadata": {},
   "outputs": [
    {
     "name": "stdout",
     "output_type": "stream",
     "text": [
      "Original list: [2, 4, 6, 8]\n",
      "Factorial list: [2, 24, 720, 40320]\n"
     ]
    }
   ],
   "source": [
    "import math\n",
    "\n",
    "# Initial list of numbers\n",
    "numbers = [2, 4, 6, 8]\n",
    "\n",
    "# Calculate the factorial for each number and store in a new list\n",
    "factorials = [math.factorial(num) for num in numbers]\n",
    "\n",
    "# Print the result\n",
    "print(\"Original list:\", numbers)\n",
    "print(\"Factorial list:\", factorials)"
   ]
  },
  {
   "cell_type": "markdown",
   "id": "04c124de-e4c9-4e7d-97bc-01d4aaaa1b26",
   "metadata": {},
   "source": [
    "### 4) Checking of the vowels inside the string\r\n",
    "\r\n"
   ]
  },
  {
   "cell_type": "code",
   "execution_count": 28,
   "id": "66b7e9bd-8c52-4b2e-988a-7516572b2a97",
   "metadata": {},
   "outputs": [
    {
     "name": "stdout",
     "output_type": "stream",
     "text": [
      "Vowel counts: {'a': 1, 'i': 1}\n"
     ]
    }
   ],
   "source": [
    "def check_vowels(input_string):\n",
    "    \n",
    "    vowels = set('aeiouAEIOU')\n",
    "    \n",
    "    \n",
    "    vowel_count = {vowel: 0 for vowel in vowels}\n",
    "    \n",
    "   \n",
    "    for char in input_string:\n",
    "        if char in vowels:\n",
    "            vowel_count[char] += 1\n",
    "    \n",
    "    \n",
    "    vowel_count = {k: v for k, v in vowel_count.items() if v > 0}\n",
    "    \n",
    "    return vowel_count\n",
    "\n",
    "\n",
    "input_string = \"Tripan\"\n",
    "vowel_counts = check_vowels(input_string)\n",
    "print(\"Vowel counts:\", vowel_counts)"
   ]
  },
  {
   "cell_type": "markdown",
   "id": "05a6fa83-e587-4ee0-8ffd-62a6f40f8e5f",
   "metadata": {},
   "source": [
    "### A python program to access each element of a string in forward and reverse orders using while loop "
   ]
  },
  {
   "cell_type": "code",
   "execution_count": 31,
   "id": "ff6a2ea4-7970-4078-a358-cd071abb8912",
   "metadata": {},
   "outputs": [
    {
     "name": "stdout",
     "output_type": "stream",
     "text": [
      "Forward order:\n",
      "H e l l o ,   W o r l d ! \n",
      "Reverse order:\n",
      "! d l r o W   , o l l e H \n"
     ]
    }
   ],
   "source": [
    "def access_elements(s):\n",
    "    \n",
    "    print(\"Forward order:\")\n",
    "    index = 0\n",
    "    while index < len(s):\n",
    "        print(s[index], end=' ')\n",
    "        index += 1\n",
    "    print()  \n",
    "    \n",
    "    \n",
    "    print(\"Reverse order:\")\n",
    "    index = len(s) - 1\n",
    "    while index >= 0:\n",
    "        print(s[index], end=' ')\n",
    "        index -= 1\n",
    "    print()  \n",
    "\n",
    "\n",
    "input_string = \"Hello, World!\"\n",
    "access_elements(input_string)"
   ]
  },
  {
   "cell_type": "markdown",
   "id": "bf95c738-bd9f-41c9-9d8c-49e8cd6222aa",
   "metadata": {},
   "source": [
    "### Write a python program to know whether a sub string in a given string  "
   ]
  },
  {
   "cell_type": "code",
   "execution_count": 34,
   "id": "c01cb32c-c1d3-40b2-97c8-ab30bc94a9a6",
   "metadata": {},
   "outputs": [
    {
     "name": "stdout",
     "output_type": "stream",
     "text": [
      "'World' exists in the main string.\n"
     ]
    }
   ],
   "source": [
    "def substring_exists(main_string, sub_string):\n",
    "    \n",
    "    return sub_string in main_string\n",
    "\n",
    "\n",
    "main_string = \"Hello, World!\"\n",
    "sub_string = \"World\"\n",
    "\n",
    "if substring_exists(main_string, sub_string):\n",
    "    print(f\"'{sub_string}' exists in the main string.\")\n",
    "else:\n",
    "    print(f\"'{sub_string}' does not exist in the main string.\")"
   ]
  },
  {
   "cell_type": "markdown",
   "id": "48577ac9-6974-467e-9e0c-32b835be87c7",
   "metadata": {},
   "source": [
    "### 8)\tA python program to insert a sub string in main string in a particular position"
   ]
  },
  {
   "cell_type": "code",
   "execution_count": 37,
   "id": "73afe14d-18f6-4c34-903d-c21740fe569f",
   "metadata": {},
   "outputs": [
    {
     "name": "stdout",
     "output_type": "stream",
     "text": [
      "The first occurrence of 'World' is at index 6.\n"
     ]
    }
   ],
   "source": [
    "def find_first_occurrence(main_string, sub_string):\n",
    "    \n",
    "    index = main_string.find(sub_string)\n",
    "    return index\n",
    "\n",
    "\n",
    "main_string = \"Hello World Welcome to the World of Python.\"\n",
    "sub_string = \"World\"\n",
    "\n",
    "index = find_first_occurrence(main_string, sub_string)\n",
    "\n",
    "if index != -1:\n",
    "    print(f\"The first occurrence of '{sub_string}' is at index {index}.\")\n",
    "else:\n",
    "    print(f\"'{sub_string}' is not found in the main string.\")"
   ]
  },
  {
   "cell_type": "code",
   "execution_count": null,
   "id": "3ca00a67-9dea-4357-a272-718ab709ed80",
   "metadata": {},
   "outputs": [],
   "source": []
  }
 ],
 "metadata": {
  "kernelspec": {
   "display_name": "Python 3 (ipykernel)",
   "language": "python",
   "name": "python3"
  },
  "language_info": {
   "codemirror_mode": {
    "name": "ipython",
    "version": 3
   },
   "file_extension": ".py",
   "mimetype": "text/x-python",
   "name": "python",
   "nbconvert_exporter": "python",
   "pygments_lexer": "ipython3",
   "version": "3.12.4"
  }
 },
 "nbformat": 4,
 "nbformat_minor": 5
}
